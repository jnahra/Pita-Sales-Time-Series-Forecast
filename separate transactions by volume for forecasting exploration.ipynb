{
 "cells": [
  {
   "cell_type": "code",
   "execution_count": 7,
   "metadata": {},
   "outputs": [],
   "source": [
    "import pandas as pd\n",
    "df=pd.read_csv('data/transaction items.csv')\n",
    "#creates a new dataframe that includes only retail large plain pita sales and pita sandwiches\n",
    "df_ws = df.loc[df['Line Item'] == 'Alad. Large Plain WS']\n",
    "df = df.loc[(df[\"Line Item\"] == 'Alad. Large Plain') | (df['Line Item'] == 'Lunch box special') | (df['Category'] == 'Stuffed Pita Sandwiches')]\n",
    "\n",
    "#defines a function that takes in a dataframe and returns the number of pita packages sold in a transaction\n",
    "#each package of pita sold is equivalent to 1 package of pita, while each sandwich is sold is 1/5 of a package of pita\n",
    "#since there are 5 pitas in a package\n",
    "def pita_package_count(row):\n",
    "    if row['Category'] == 'Stuffed Pita Sandwiches' or row['Line Item'] == 'Lunch box special':\n",
    "        return row['Quantity']/5\n",
    "    else:\n",
    "        return row['Quantity']\n",
    "\n",
    "#create new column that applies the function to retail and wholesale dataframes\n",
    "df['pita count'] = df.apply(pita_package_count,axis=1)\n",
    "\n",
    "df_ws['pita count'] = df_ws.apply(pita_package_count,axis=1)\n",
    "\n",
    "#check to see column was successfully created\n",
    "df.head(10)\n",
    "\n",
    "\n",
    "#defines a function that calculates the unit cost of a package of pita\n",
    "def unit_cost(row):\n",
    "    if row['Category'] == 'Stuffed Pita Sandwiches' or row['Line Item'] == 'Lunch box special':\n",
    "        return 0\n",
    "    else:\n",
    "        return round(row['Total Due']/row['Quantity'],2)\n",
    "\n",
    "#create a new column that applies that function to retail and wholesale dataframes\n",
    "df['unit cost'] = df.apply(unit_cost,axis=1)\n",
    "\n",
    "df_ws['unit cost'] = df_ws.apply(unit_cost,axis=1)"
   ]
  },
  {
   "cell_type": "code",
   "execution_count": 61,
   "metadata": {},
   "outputs": [
    {
     "data": {
      "text/plain": [
       "Time                    372\n",
       "Register Name/Number    372\n",
       "Cashier Name            372\n",
       "Operation Type          372\n",
       "Store Code              372\n",
       "UPC                     372\n",
       "Line Item               372\n",
       "Department              372\n",
       "Category                372\n",
       "Supplier                372\n",
       "Supplier Code             0\n",
       "Cost                    372\n",
       "Price                   372\n",
       "Quantity                372\n",
       "Modifiers               372\n",
       "Subtotal                372\n",
       "Discounts               372\n",
       "Net Total               372\n",
       "Tax                     372\n",
       "Total Due               372\n",
       "Transaction ID          372\n",
       "Customer ID             372\n",
       "pita count              372\n",
       "unit cost               372\n",
       "dtype: int64"
      ]
     },
     "execution_count": 61,
     "metadata": {},
     "output_type": "execute_result"
    }
   ],
   "source": [
    "df[df['pita count']>13].count()"
   ]
  },
  {
   "cell_type": "code",
   "execution_count": 60,
   "metadata": {},
   "outputs": [
    {
     "data": {
      "text/plain": [
       "Time                    0.780328\n",
       "Register Name/Number    0.780328\n",
       "Cashier Name            0.780328\n",
       "Operation Type          0.780328\n",
       "Store Code              0.780328\n",
       "UPC                     0.780328\n",
       "Line Item               0.780328\n",
       "Department              0.780328\n",
       "Category                0.780328\n",
       "Supplier                0.780328\n",
       "Supplier Code                NaN\n",
       "Cost                    0.780328\n",
       "Price                   0.780328\n",
       "Quantity                0.780328\n",
       "Modifiers               0.780328\n",
       "Subtotal                0.780328\n",
       "Discounts               0.780328\n",
       "Net Total               0.780328\n",
       "Tax                     0.780328\n",
       "Total Due               0.780328\n",
       "Transaction ID          0.780328\n",
       "Customer ID             0.780328\n",
       "pita count              0.780328\n",
       "unit cost               0.780328\n",
       "dtype: float64"
      ]
     },
     "execution_count": 60,
     "metadata": {},
     "output_type": "execute_result"
    }
   ],
   "source": [
    "df_ws[df_ws['pita count']>13].count()/df_ws.count()"
   ]
  },
  {
   "cell_type": "code",
   "execution_count": null,
   "metadata": {},
   "outputs": [],
   "source": []
  }
 ],
 "metadata": {
  "kernelspec": {
   "display_name": "Python (learn-env)",
   "language": "python",
   "name": "learn-env"
  },
  "language_info": {
   "codemirror_mode": {
    "name": "ipython",
    "version": 3
   },
   "file_extension": ".py",
   "mimetype": "text/x-python",
   "name": "python",
   "nbconvert_exporter": "python",
   "pygments_lexer": "ipython3",
   "version": "3.8.5"
  }
 },
 "nbformat": 4,
 "nbformat_minor": 4
}
